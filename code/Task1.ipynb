{
 "cells": [
  {
   "cell_type": "code",
   "execution_count": 1,
   "metadata": {},
   "outputs": [
    {
     "name": "stdout",
     "output_type": "stream",
     "text": [
      "   Unnamed: 0  type                                             review label  \\\n",
      "0           0  test  Once again Mr. Costner has dragged out a movie...   neg   \n",
      "1           1  test  This is an example of why the majority of acti...   neg   \n",
      "2           2  test  First of all I hate those moronic rappers, who...   neg   \n",
      "3           3  test  Not even the Beatles could write songs everyon...   neg   \n",
      "4           4  test  Brass pictures (movies is not a fitting word f...   neg   \n",
      "\n",
      "          file  \n",
      "0      0_2.txt  \n",
      "1  10000_4.txt  \n",
      "2  10001_1.txt  \n",
      "3  10002_3.txt  \n",
      "4  10003_3.txt  \n",
      "Epoch 1/5\n",
      "293/293 [==============================] - 24s 52ms/step - loss: 0.9220 - acc: 0.4948 - val_loss: 0.8400 - val_acc: 0.5141\n",
      "Epoch 2/5\n",
      "293/293 [==============================] - 5s 16ms/step - loss: 0.7866 - acc: 0.5825 - val_loss: 0.8432 - val_acc: 0.5168\n",
      "Epoch 3/5\n",
      "293/293 [==============================] - 4s 15ms/step - loss: 0.6876 - acc: 0.6834 - val_loss: 0.8668 - val_acc: 0.5113\n",
      "Epoch 4/5\n",
      "293/293 [==============================] - 4s 15ms/step - loss: 0.5066 - acc: 0.8176 - val_loss: 0.9543 - val_acc: 0.5136\n",
      "Epoch 5/5\n",
      "293/293 [==============================] - 5s 17ms/step - loss: 0.2982 - acc: 0.9266 - val_loss: 1.0789 - val_acc: 0.5081\n"
     ]
    }
   ],
   "source": [
    "from keras.models import Sequential\n",
    "from keras import layers\n",
    "from keras.preprocessing.text import Tokenizer\n",
    "import pandas as pd\n",
    "from sklearn import preprocessing\n",
    "from sklearn.model_selection import train_test_split\n",
    "\n",
    "df = pd.read_csv('/Users/Administrator/PycharmProjects/pythonProject2/ML3/code/imdb_master.csv',encoding='latin-1')\n",
    "print(df.head())\n",
    "sentences = df['review'].values\n",
    "y = df['label'].values\n",
    "\n",
    "#tokenizing data\n",
    "tokenizer = Tokenizer(num_words=2000)\n",
    "tokenizer.fit_on_texts(sentences)\n",
    "\n",
    "#getting the vocabulary of data\n",
    "sentences = tokenizer.texts_to_matrix(sentences)\n",
    "le = preprocessing.LabelEncoder()\n",
    "y = le.fit_transform(y)\n",
    "X_train, X_test, y_train, y_test = train_test_split(sentences, y, test_size=0.25, random_state=1000)\n",
    "\n",
    "# Number of features\n",
    "model = Sequential()\n",
    "#Keras has its input_dim refers to the Dimension of Input Layer / Number of Input Feature\n",
    "model.add(layers.Dense(300,input_dim=2000, activation='relu'))\n",
    "model.add(layers.Dense(3, activation='softmax'))\n",
    "model.compile(loss='sparse_categorical_crossentropy',optimizer='adam',metrics=['acc'])\n",
    "history=model.fit(X_train,y_train, epochs=5, verbose=True, validation_data=(X_test,y_test), batch_size=256)"
   ]
  },
  {
   "cell_type": "code",
   "execution_count": null,
   "metadata": {},
   "outputs": [],
   "source": []
  }
 ],
 "metadata": {
  "kernelspec": {
   "display_name": "Python 3",
   "language": "python",
   "name": "python3"
  },
  "language_info": {
   "codemirror_mode": {
    "name": "ipython",
    "version": 3
   },
   "file_extension": ".py",
   "mimetype": "text/x-python",
   "name": "python",
   "nbconvert_exporter": "python",
   "pygments_lexer": "ipython3",
   "version": "3.7.6"
  }
 },
 "nbformat": 4,
 "nbformat_minor": 4
}
